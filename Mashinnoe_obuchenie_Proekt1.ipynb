{
 "cells": [
  {
   "cell_type": "markdown",
   "metadata": {},
   "source": [
    "# ПРОЕКТ 1"
   ]
  },
  {
   "cell_type": "markdown",
   "metadata": {},
   "source": [
    "# Библиотеки "
   ]
  },
  {
   "cell_type": "code",
   "execution_count": 2,
   "metadata": {},
   "outputs": [],
   "source": [
    "import pandas as pd\n",
    "import numpy as np\n",
    "import matplotlib.pyplot as plt\n",
    "import numpy.polynomial.polynomial as poly\n",
    "import scipy.optimize as opt"
   ]
  },
  {
   "cell_type": "markdown",
   "metadata": {},
   "source": [
    "# Данные "
   ]
  },
  {
   "cell_type": "markdown",
   "metadata": {},
   "source": [
    "Загружаем данные:\n",
    "\n",
    "Валовый региональный продукт за 2018 год (Будет обозначаться переменной Y_VRP)\n",
    "\n",
    "Уровень безработицы за 2018 год (Будет обозначаться переменной X_UB)\n",
    "\n",
    "Число занятых за 2018 год (Будет обозначаться переменной X_Zan) \n",
    "\n",
    "Степень износов фондов за 2018 год (Будет обозначаться переменной X_SIF)"
   ]
  },
  {
   "cell_type": "code",
   "execution_count": 38,
   "metadata": {},
   "outputs": [
    {
     "data": {
      "text/html": [
       "<div>\n",
       "<style scoped>\n",
       "    .dataframe tbody tr th:only-of-type {\n",
       "        vertical-align: middle;\n",
       "    }\n",
       "\n",
       "    .dataframe tbody tr th {\n",
       "        vertical-align: top;\n",
       "    }\n",
       "\n",
       "    .dataframe thead th {\n",
       "        text-align: right;\n",
       "    }\n",
       "</style>\n",
       "<table border=\"1\" class=\"dataframe\">\n",
       "  <thead>\n",
       "    <tr style=\"text-align: right;\">\n",
       "      <th></th>\n",
       "      <th>Unnamed: 0</th>\n",
       "      <th>Обновлено 25.11.2019</th>\n",
       "      <th>Unnamed: 2</th>\n",
       "      <th>Unnamed: 3</th>\n",
       "      <th>Unnamed: 4</th>\n",
       "      <th>Unnamed: 5</th>\n",
       "      <th>Unnamed: 6</th>\n",
       "      <th>Unnamed: 7</th>\n",
       "      <th>Unnamed: 8</th>\n",
       "      <th>Unnamed: 9</th>\n",
       "      <th>...</th>\n",
       "      <th>Unnamed: 14</th>\n",
       "      <th>Unnamed: 15</th>\n",
       "      <th>Unnamed: 16</th>\n",
       "      <th>Unnamed: 17</th>\n",
       "      <th>Unnamed: 18</th>\n",
       "      <th>Unnamed: 19</th>\n",
       "      <th>Unnamed: 20</th>\n",
       "      <th>Unnamed: 21</th>\n",
       "      <th>Unnamed: 22</th>\n",
       "      <th>Unnamed: 23</th>\n",
       "    </tr>\n",
       "  </thead>\n",
       "  <tbody>\n",
       "    <tr>\n",
       "      <th>4</th>\n",
       "      <td>NaN</td>\n",
       "      <td>NaN</td>\n",
       "      <td>СИФ</td>\n",
       "      <td>УБ</td>\n",
       "      <td>ЧисЗан</td>\n",
       "      <td>ВРП</td>\n",
       "      <td>NaN</td>\n",
       "      <td>NaN</td>\n",
       "      <td>NaN</td>\n",
       "      <td>NaN</td>\n",
       "      <td>...</td>\n",
       "      <td>NaN</td>\n",
       "      <td>NaN</td>\n",
       "      <td>NaN</td>\n",
       "      <td>NaN</td>\n",
       "      <td>NaN</td>\n",
       "      <td>NaN</td>\n",
       "      <td>NaN</td>\n",
       "      <td>NaN</td>\n",
       "      <td>NaN</td>\n",
       "      <td>NaN</td>\n",
       "    </tr>\n",
       "    <tr>\n",
       "      <th>5</th>\n",
       "      <td>NaN</td>\n",
       "      <td>NaN</td>\n",
       "      <td>NaN</td>\n",
       "      <td>NaN</td>\n",
       "      <td>NaN</td>\n",
       "      <td>NaN</td>\n",
       "      <td>NaN</td>\n",
       "      <td>NaN</td>\n",
       "      <td>NaN</td>\n",
       "      <td>NaN</td>\n",
       "      <td>...</td>\n",
       "      <td>NaN</td>\n",
       "      <td>NaN</td>\n",
       "      <td>NaN</td>\n",
       "      <td>NaN</td>\n",
       "      <td>NaN</td>\n",
       "      <td>NaN</td>\n",
       "      <td>NaN</td>\n",
       "      <td>Периодичность</td>\n",
       "      <td>Срок (согласно Федеральному плану статистическ...</td>\n",
       "      <td>Исполнитель</td>\n",
       "    </tr>\n",
       "    <tr>\n",
       "      <th>6</th>\n",
       "      <td>NaN</td>\n",
       "      <td>NaN</td>\n",
       "      <td>NaN</td>\n",
       "      <td>NaN</td>\n",
       "      <td>NaN</td>\n",
       "      <td>NaN</td>\n",
       "      <td>NaN</td>\n",
       "      <td>NaN</td>\n",
       "      <td>NaN</td>\n",
       "      <td>NaN</td>\n",
       "      <td>...</td>\n",
       "      <td>NaN</td>\n",
       "      <td>NaN</td>\n",
       "      <td>NaN</td>\n",
       "      <td>NaN</td>\n",
       "      <td>NaN</td>\n",
       "      <td>NaN</td>\n",
       "      <td>NaN</td>\n",
       "      <td>NaN</td>\n",
       "      <td>NaN</td>\n",
       "      <td>NaN</td>\n",
       "    </tr>\n",
       "    <tr>\n",
       "      <th>7</th>\n",
       "      <td>NaN</td>\n",
       "      <td>Белгородская область</td>\n",
       "      <td>44.5</td>\n",
       "      <td>4</td>\n",
       "      <td>791.394</td>\n",
       "      <td>559184</td>\n",
       "      <td>NaN</td>\n",
       "      <td>NaN</td>\n",
       "      <td>NaN</td>\n",
       "      <td>NaN</td>\n",
       "      <td>...</td>\n",
       "      <td>NaN</td>\n",
       "      <td>NaN</td>\n",
       "      <td>NaN</td>\n",
       "      <td>NaN</td>\n",
       "      <td>NaN</td>\n",
       "      <td>NaN</td>\n",
       "      <td>NaN</td>\n",
       "      <td>NaN</td>\n",
       "      <td>NaN</td>\n",
       "      <td>NaN</td>\n",
       "    </tr>\n",
       "    <tr>\n",
       "      <th>8</th>\n",
       "      <td>NaN</td>\n",
       "      <td>Брянская область</td>\n",
       "      <td>48.6</td>\n",
       "      <td>3.9</td>\n",
       "      <td>569.588</td>\n",
       "      <td>272742</td>\n",
       "      <td>NaN</td>\n",
       "      <td>NaN</td>\n",
       "      <td>NaN</td>\n",
       "      <td>NaN</td>\n",
       "      <td>...</td>\n",
       "      <td>NaN</td>\n",
       "      <td>NaN</td>\n",
       "      <td>NaN</td>\n",
       "      <td>NaN</td>\n",
       "      <td>NaN</td>\n",
       "      <td>NaN</td>\n",
       "      <td>NaN</td>\n",
       "      <td>Годовая</td>\n",
       "      <td>октябрь</td>\n",
       "      <td>Н.А. Лычагина (495) 607-27-70</td>\n",
       "    </tr>\n",
       "    <tr>\n",
       "      <th>...</th>\n",
       "      <td>...</td>\n",
       "      <td>...</td>\n",
       "      <td>...</td>\n",
       "      <td>...</td>\n",
       "      <td>...</td>\n",
       "      <td>...</td>\n",
       "      <td>...</td>\n",
       "      <td>...</td>\n",
       "      <td>...</td>\n",
       "      <td>...</td>\n",
       "      <td>...</td>\n",
       "      <td>...</td>\n",
       "      <td>...</td>\n",
       "      <td>...</td>\n",
       "      <td>...</td>\n",
       "      <td>...</td>\n",
       "      <td>...</td>\n",
       "      <td>...</td>\n",
       "      <td>...</td>\n",
       "      <td>...</td>\n",
       "      <td>...</td>\n",
       "    </tr>\n",
       "    <tr>\n",
       "      <th>96</th>\n",
       "      <td>NaN</td>\n",
       "      <td>Амурская область</td>\n",
       "      <td>43.8</td>\n",
       "      <td>5.6</td>\n",
       "      <td>388.747</td>\n",
       "      <td>378319</td>\n",
       "      <td>NaN</td>\n",
       "      <td>NaN</td>\n",
       "      <td>NaN</td>\n",
       "      <td>NaN</td>\n",
       "      <td>...</td>\n",
       "      <td>NaN</td>\n",
       "      <td>NaN</td>\n",
       "      <td>NaN</td>\n",
       "      <td>NaN</td>\n",
       "      <td>NaN</td>\n",
       "      <td>NaN</td>\n",
       "      <td>NaN</td>\n",
       "      <td>NaN</td>\n",
       "      <td>NaN</td>\n",
       "      <td>NaN</td>\n",
       "    </tr>\n",
       "    <tr>\n",
       "      <th>97</th>\n",
       "      <td>NaN</td>\n",
       "      <td>Магаданская область</td>\n",
       "      <td>39.9</td>\n",
       "      <td>5.1</td>\n",
       "      <td>83.76</td>\n",
       "      <td>1.19669e+06</td>\n",
       "      <td>NaN</td>\n",
       "      <td>NaN</td>\n",
       "      <td>NaN</td>\n",
       "      <td>NaN</td>\n",
       "      <td>...</td>\n",
       "      <td>NaN</td>\n",
       "      <td>NaN</td>\n",
       "      <td>NaN</td>\n",
       "      <td>NaN</td>\n",
       "      <td>NaN</td>\n",
       "      <td>NaN</td>\n",
       "      <td>NaN</td>\n",
       "      <td>NaN</td>\n",
       "      <td>NaN</td>\n",
       "      <td>NaN</td>\n",
       "    </tr>\n",
       "    <tr>\n",
       "      <th>98</th>\n",
       "      <td>NaN</td>\n",
       "      <td>Сахалинская область</td>\n",
       "      <td>55</td>\n",
       "      <td>5.3</td>\n",
       "      <td>259.433</td>\n",
       "      <td>2.40793e+06</td>\n",
       "      <td>NaN</td>\n",
       "      <td>NaN</td>\n",
       "      <td>NaN</td>\n",
       "      <td>NaN</td>\n",
       "      <td>...</td>\n",
       "      <td>NaN</td>\n",
       "      <td>NaN</td>\n",
       "      <td>NaN</td>\n",
       "      <td>NaN</td>\n",
       "      <td>NaN</td>\n",
       "      <td>NaN</td>\n",
       "      <td>NaN</td>\n",
       "      <td>NaN</td>\n",
       "      <td>NaN</td>\n",
       "      <td>NaN</td>\n",
       "    </tr>\n",
       "    <tr>\n",
       "      <th>99</th>\n",
       "      <td>NaN</td>\n",
       "      <td>Еврейская автономная область</td>\n",
       "      <td>38.2</td>\n",
       "      <td>7</td>\n",
       "      <td>72.024</td>\n",
       "      <td>346716</td>\n",
       "      <td>NaN</td>\n",
       "      <td>NaN</td>\n",
       "      <td>NaN</td>\n",
       "      <td>NaN</td>\n",
       "      <td>...</td>\n",
       "      <td>NaN</td>\n",
       "      <td>NaN</td>\n",
       "      <td>NaN</td>\n",
       "      <td>NaN</td>\n",
       "      <td>NaN</td>\n",
       "      <td>NaN</td>\n",
       "      <td>NaN</td>\n",
       "      <td>NaN</td>\n",
       "      <td>NaN</td>\n",
       "      <td>NaN</td>\n",
       "    </tr>\n",
       "    <tr>\n",
       "      <th>100</th>\n",
       "      <td>NaN</td>\n",
       "      <td>Чукотский автономный округ</td>\n",
       "      <td>49.3</td>\n",
       "      <td>3.1</td>\n",
       "      <td>29.439</td>\n",
       "      <td>1.5785e+06</td>\n",
       "      <td>NaN</td>\n",
       "      <td>NaN</td>\n",
       "      <td>NaN</td>\n",
       "      <td>NaN</td>\n",
       "      <td>...</td>\n",
       "      <td>NaN</td>\n",
       "      <td>NaN</td>\n",
       "      <td>NaN</td>\n",
       "      <td>NaN</td>\n",
       "      <td>NaN</td>\n",
       "      <td>NaN</td>\n",
       "      <td>NaN</td>\n",
       "      <td>NaN</td>\n",
       "      <td>NaN</td>\n",
       "      <td>NaN</td>\n",
       "    </tr>\n",
       "  </tbody>\n",
       "</table>\n",
       "<p>97 rows × 24 columns</p>\n",
       "</div>"
      ],
      "text/plain": [
       "     Unnamed: 0          Обновлено 25.11.2019 Unnamed: 2 Unnamed: 3  \\\n",
       "4           NaN                           NaN        СИФ         УБ   \n",
       "5           NaN                           NaN        NaN        NaN   \n",
       "6           NaN                           NaN        NaN        NaN   \n",
       "7           NaN          Белгородская область       44.5          4   \n",
       "8           NaN              Брянская область       48.6        3.9   \n",
       "..          ...                           ...        ...        ...   \n",
       "96          NaN              Амурская область       43.8        5.6   \n",
       "97          NaN           Магаданская область       39.9        5.1   \n",
       "98          NaN           Сахалинская область         55        5.3   \n",
       "99          NaN  Еврейская автономная область       38.2          7   \n",
       "100         NaN    Чукотский автономный округ       49.3        3.1   \n",
       "\n",
       "    Unnamed: 4   Unnamed: 5  Unnamed: 6  Unnamed: 7  Unnamed: 8  Unnamed: 9  \\\n",
       "4       ЧисЗан          ВРП         NaN         NaN         NaN         NaN   \n",
       "5          NaN          NaN         NaN         NaN         NaN         NaN   \n",
       "6          NaN          NaN         NaN         NaN         NaN         NaN   \n",
       "7      791.394       559184         NaN         NaN         NaN         NaN   \n",
       "8      569.588       272742         NaN         NaN         NaN         NaN   \n",
       "..         ...          ...         ...         ...         ...         ...   \n",
       "96     388.747       378319         NaN         NaN         NaN         NaN   \n",
       "97       83.76  1.19669e+06         NaN         NaN         NaN         NaN   \n",
       "98     259.433  2.40793e+06         NaN         NaN         NaN         NaN   \n",
       "99      72.024       346716         NaN         NaN         NaN         NaN   \n",
       "100     29.439   1.5785e+06         NaN         NaN         NaN         NaN   \n",
       "\n",
       "     ...  Unnamed: 14  Unnamed: 15  Unnamed: 16  Unnamed: 17  Unnamed: 18  \\\n",
       "4    ...          NaN          NaN          NaN          NaN          NaN   \n",
       "5    ...          NaN          NaN          NaN          NaN          NaN   \n",
       "6    ...          NaN          NaN          NaN          NaN          NaN   \n",
       "7    ...          NaN          NaN          NaN          NaN          NaN   \n",
       "8    ...          NaN          NaN          NaN          NaN          NaN   \n",
       "..   ...          ...          ...          ...          ...          ...   \n",
       "96   ...          NaN          NaN          NaN          NaN          NaN   \n",
       "97   ...          NaN          NaN          NaN          NaN          NaN   \n",
       "98   ...          NaN          NaN          NaN          NaN          NaN   \n",
       "99   ...          NaN          NaN          NaN          NaN          NaN   \n",
       "100  ...          NaN          NaN          NaN          NaN          NaN   \n",
       "\n",
       "     Unnamed: 19  Unnamed: 20    Unnamed: 21  \\\n",
       "4            NaN          NaN            NaN   \n",
       "5            NaN          NaN  Периодичность   \n",
       "6            NaN          NaN            NaN   \n",
       "7            NaN          NaN            NaN   \n",
       "8            NaN          NaN        Годовая   \n",
       "..           ...          ...            ...   \n",
       "96           NaN          NaN            NaN   \n",
       "97           NaN          NaN            NaN   \n",
       "98           NaN          NaN            NaN   \n",
       "99           NaN          NaN            NaN   \n",
       "100          NaN          NaN            NaN   \n",
       "\n",
       "                                           Unnamed: 22  \\\n",
       "4                                                  NaN   \n",
       "5    Срок (согласно Федеральному плану статистическ...   \n",
       "6                                                  NaN   \n",
       "7                                                  NaN   \n",
       "8                                              октябрь   \n",
       "..                                                 ...   \n",
       "96                                                 NaN   \n",
       "97                                                 NaN   \n",
       "98                                                 NaN   \n",
       "99                                                 NaN   \n",
       "100                                                NaN   \n",
       "\n",
       "                       Unnamed: 23  \n",
       "4                              NaN  \n",
       "5                      Исполнитель  \n",
       "6                              NaN  \n",
       "7                              NaN  \n",
       "8    Н.А. Лычагина (495) 607-27-70  \n",
       "..                             ...  \n",
       "96                             NaN  \n",
       "97                             NaN  \n",
       "98                             NaN  \n",
       "99                             NaN  \n",
       "100                            NaN  \n",
       "\n",
       "[97 rows x 24 columns]"
      ]
     },
     "execution_count": 38,
     "metadata": {},
     "output_type": "execute_result"
    }
   ],
   "source": [
    "Data = pd.ExcelFile(\"Данные о ВРП и Числ Занят.xlsx\").parse()\n",
    "Data=Data[4:]\n",
    "Data"
   ]
  },
  {
   "cell_type": "code",
   "execution_count": 39,
   "metadata": {},
   "outputs": [
    {
     "data": {
      "text/plain": [
       "Index(['Unnamed: 0', 'Обновлено 25.11.2019', 'Unnamed: 2', 'Unnamed: 3',\n",
       "       'Unnamed: 4', 'Unnamed: 5', 'Unnamed: 6', 'Unnamed: 7', 'Unnamed: 8',\n",
       "       'Unnamed: 9', 'Unnamed: 10', 'Unnamed: 11', 'Unnamed: 12',\n",
       "       'Unnamed: 13', 'Unnamed: 14', 'Unnamed: 15', 'Unnamed: 16',\n",
       "       'Unnamed: 17', 'Unnamed: 18', 'Unnamed: 19', 'Unnamed: 20',\n",
       "       'Unnamed: 21', 'Unnamed: 22', 'Unnamed: 23'],\n",
       "      dtype='object')"
      ]
     },
     "execution_count": 39,
     "metadata": {},
     "output_type": "execute_result"
    }
   ],
   "source": [
    "Data.columns"
   ]
  },
  {
   "cell_type": "code",
   "execution_count": 43,
   "metadata": {},
   "outputs": [
    {
     "data": {
      "text/plain": [
       "7      0.559184\n",
       "8      0.272742\n",
       "9      0.321079\n",
       "10     0.404838\n",
       "11     0.195995\n",
       "         ...   \n",
       "96     0.378319\n",
       "97      1.19669\n",
       "98      2.40793\n",
       "99     0.346716\n",
       "100      1.5785\n",
       "Name: Unnamed: 5, Length: 87, dtype: object"
      ]
     },
     "execution_count": 43,
     "metadata": {},
     "output_type": "execute_result"
    }
   ],
   "source": [
    "Y_VRP = Data['Unnamed: 5']\n",
    "Y_VRP=Y_VRP[1:].dropna()\n",
    "Y_VRP=Y_VRP/1000000\n",
    "Y_VRP"
   ]
  },
  {
   "cell_type": "code",
   "execution_count": 45,
   "metadata": {},
   "outputs": [
    {
     "data": {
      "text/plain": [
       "7      0.445\n",
       "8      0.486\n",
       "9      0.451\n",
       "10     0.403\n",
       "11     0.526\n",
       "       ...  \n",
       "96     0.438\n",
       "97     0.399\n",
       "98      0.55\n",
       "99     0.382\n",
       "100    0.493\n",
       "Name: Unnamed: 2, Length: 87, dtype: object"
      ]
     },
     "execution_count": 45,
     "metadata": {},
     "output_type": "execute_result"
    }
   ],
   "source": [
    "X_SIF=Data['Unnamed: 2']\n",
    "X_SIF=X_SIF[1:].dropna()\n",
    "X_SIF=X_SIF/100\n",
    "X_SIF"
   ]
  },
  {
   "cell_type": "code",
   "execution_count": 46,
   "metadata": {},
   "outputs": [
    {
     "data": {
      "text/plain": [
       "7       0.04\n",
       "8      0.039\n",
       "9      0.047\n",
       "10     0.037\n",
       "11     0.042\n",
       "       ...  \n",
       "96     0.056\n",
       "97     0.051\n",
       "98     0.053\n",
       "99      0.07\n",
       "100    0.031\n",
       "Name: Unnamed: 3, Length: 87, dtype: object"
      ]
     },
     "execution_count": 46,
     "metadata": {},
     "output_type": "execute_result"
    }
   ],
   "source": [
    "X_UB=Data['Unnamed: 3']\n",
    "X_UB=X_UB[1:].dropna()\n",
    "X_UB=X_UB/100\n",
    "X_UB"
   ]
  },
  {
   "cell_type": "code",
   "execution_count": 52,
   "metadata": {},
   "outputs": [
    {
     "data": {
      "text/plain": [
       "7      0.0791394\n",
       "8      0.0569588\n",
       "9      0.0688532\n",
       "10      0.112319\n",
       "11      0.049554\n",
       "         ...    \n",
       "96     0.0388747\n",
       "97      0.008376\n",
       "98     0.0259433\n",
       "99     0.0072024\n",
       "100    0.0029439\n",
       "Name: Unnamed: 4, Length: 87, dtype: object"
      ]
     },
     "execution_count": 52,
     "metadata": {},
     "output_type": "execute_result"
    }
   ],
   "source": [
    "X_Zan = Data['Unnamed: 4']\n",
    "X_Zan=X_Zan[1:].dropna()\n",
    "X_Zan=X_Zan/10000\n",
    "X_Zan"
   ]
  },
  {
   "cell_type": "markdown",
   "metadata": {},
   "source": [
    "Проверим совпадают ли индексы, для того чтобы узнать, что значения соотносятся правильно между переменными "
   ]
  },
  {
   "cell_type": "code",
   "execution_count": 70,
   "metadata": {},
   "outputs": [
    {
     "data": {
      "text/plain": [
       "True"
      ]
     },
     "execution_count": 70,
     "metadata": {},
     "output_type": "execute_result"
    }
   ],
   "source": [
    "Ravn_Index_1 = list(map(lambda x: X_Zan.index[x] == X_UB.index[x],range(len(X_Zan))))\n",
    "sum(Ravn_Index_1)==len(X_Zan)"
   ]
  },
  {
   "cell_type": "code",
   "execution_count": 68,
   "metadata": {},
   "outputs": [
    {
     "data": {
      "text/plain": [
       "True"
      ]
     },
     "execution_count": 68,
     "metadata": {},
     "output_type": "execute_result"
    }
   ],
   "source": [
    "Ravn_Index_2 = list(map(lambda x: X_Zan.index[x] == X_SIF.index[x],range(len(X_Zan))))\n",
    "sum(Ravn_Index_2)==len(X_Zan)"
   ]
  },
  {
   "cell_type": "code",
   "execution_count": 69,
   "metadata": {},
   "outputs": [
    {
     "data": {
      "text/plain": [
       "True"
      ]
     },
     "execution_count": 69,
     "metadata": {},
     "output_type": "execute_result"
    }
   ],
   "source": [
    "Ravn_Index_3 = list(map(lambda x: X_Zan.index[x] == Y_VRP.index[x],range(len(X_Zan))))\n",
    "sum(Ravn_Index_3)==len(X_Zan)"
   ]
  },
  {
   "cell_type": "markdown",
   "metadata": {},
   "source": [
    "Видно, что все индексы совпали"
   ]
  },
  {
   "cell_type": "markdown",
   "metadata": {},
   "source": [
    "# Таблица"
   ]
  },
  {
   "cell_type": "code",
   "execution_count": 73,
   "metadata": {},
   "outputs": [
    {
     "data": {
      "text/html": [
       "<div>\n",
       "<style scoped>\n",
       "    .dataframe tbody tr th:only-of-type {\n",
       "        vertical-align: middle;\n",
       "    }\n",
       "\n",
       "    .dataframe tbody tr th {\n",
       "        vertical-align: top;\n",
       "    }\n",
       "\n",
       "    .dataframe thead th {\n",
       "        text-align: right;\n",
       "    }\n",
       "</style>\n",
       "<table border=\"1\" class=\"dataframe\">\n",
       "  <thead>\n",
       "    <tr style=\"text-align: right;\">\n",
       "      <th></th>\n",
       "      <th>Занятость</th>\n",
       "      <th>Уровень безработицы</th>\n",
       "      <th>Степень износа фондов</th>\n",
       "      <th>ВРП</th>\n",
       "    </tr>\n",
       "  </thead>\n",
       "  <tbody>\n",
       "    <tr>\n",
       "      <th>7</th>\n",
       "      <td>0.0791394</td>\n",
       "      <td>0.04</td>\n",
       "      <td>0.445</td>\n",
       "      <td>0.559184</td>\n",
       "    </tr>\n",
       "    <tr>\n",
       "      <th>8</th>\n",
       "      <td>0.0569588</td>\n",
       "      <td>0.039</td>\n",
       "      <td>0.486</td>\n",
       "      <td>0.272742</td>\n",
       "    </tr>\n",
       "    <tr>\n",
       "      <th>9</th>\n",
       "      <td>0.0688532</td>\n",
       "      <td>0.047</td>\n",
       "      <td>0.451</td>\n",
       "      <td>0.321079</td>\n",
       "    </tr>\n",
       "    <tr>\n",
       "      <th>10</th>\n",
       "      <td>0.112319</td>\n",
       "      <td>0.037</td>\n",
       "      <td>0.403</td>\n",
       "      <td>0.404838</td>\n",
       "    </tr>\n",
       "    <tr>\n",
       "      <th>11</th>\n",
       "      <td>0.049554</td>\n",
       "      <td>0.042</td>\n",
       "      <td>0.526</td>\n",
       "      <td>0.195995</td>\n",
       "    </tr>\n",
       "    <tr>\n",
       "      <th>...</th>\n",
       "      <td>...</td>\n",
       "      <td>...</td>\n",
       "      <td>...</td>\n",
       "      <td>...</td>\n",
       "    </tr>\n",
       "    <tr>\n",
       "      <th>96</th>\n",
       "      <td>0.0388747</td>\n",
       "      <td>0.056</td>\n",
       "      <td>0.438</td>\n",
       "      <td>0.378319</td>\n",
       "    </tr>\n",
       "    <tr>\n",
       "      <th>97</th>\n",
       "      <td>0.008376</td>\n",
       "      <td>0.051</td>\n",
       "      <td>0.399</td>\n",
       "      <td>1.19669</td>\n",
       "    </tr>\n",
       "    <tr>\n",
       "      <th>98</th>\n",
       "      <td>0.0259433</td>\n",
       "      <td>0.053</td>\n",
       "      <td>0.55</td>\n",
       "      <td>2.40793</td>\n",
       "    </tr>\n",
       "    <tr>\n",
       "      <th>99</th>\n",
       "      <td>0.0072024</td>\n",
       "      <td>0.07</td>\n",
       "      <td>0.382</td>\n",
       "      <td>0.346716</td>\n",
       "    </tr>\n",
       "    <tr>\n",
       "      <th>100</th>\n",
       "      <td>0.0029439</td>\n",
       "      <td>0.031</td>\n",
       "      <td>0.493</td>\n",
       "      <td>1.5785</td>\n",
       "    </tr>\n",
       "  </tbody>\n",
       "</table>\n",
       "<p>87 rows × 4 columns</p>\n",
       "</div>"
      ],
      "text/plain": [
       "     Занятость Уровень безработицы Степень износа фондов       ВРП\n",
       "7    0.0791394                0.04                 0.445  0.559184\n",
       "8    0.0569588               0.039                 0.486  0.272742\n",
       "9    0.0688532               0.047                 0.451  0.321079\n",
       "10    0.112319               0.037                 0.403  0.404838\n",
       "11    0.049554               0.042                 0.526  0.195995\n",
       "..         ...                 ...                   ...       ...\n",
       "96   0.0388747               0.056                 0.438  0.378319\n",
       "97    0.008376               0.051                 0.399   1.19669\n",
       "98   0.0259433               0.053                  0.55   2.40793\n",
       "99   0.0072024                0.07                 0.382  0.346716\n",
       "100  0.0029439               0.031                 0.493    1.5785\n",
       "\n",
       "[87 rows x 4 columns]"
      ]
     },
     "execution_count": 73,
     "metadata": {},
     "output_type": "execute_result"
    }
   ],
   "source": [
    "Table = pd.concat([X_Zan, X_UB, X_SIF, Y_VRP], axis=1)\n",
    "Table.columns = (['Занятость', 'Уровень безработицы', 'Степень износа фондов', 'ВРП'])\n",
    "Table"
   ]
  },
  {
   "cell_type": "markdown",
   "metadata": {},
   "source": [
    "# Графики"
   ]
  },
  {
   "cell_type": "markdown",
   "metadata": {},
   "source": [
    "Построим диаграммы рассеяния, для того чтобы визуально понять зависимость переменных"
   ]
  },
  {
   "cell_type": "code",
   "execution_count": 74,
   "metadata": {},
   "outputs": [],
   "source": [
    "def Diag_Ras(a,b):\n",
    "    plt.plot( Table[Itog_Table.columns[a]], Table[Itog_Table.columns[b]], 'o')\n",
    "    plt.ylabel( Table.columns[b])\n",
    "    plt.xlabel( Table.columns[a])\n",
    "    return print('Коэффициент корреляции составляет -', \n",
    "Table[Table.columns[b]].astype(float).corr(Table[Table.columns[a]].astype(float)))"
   ]
  },
  {
   "cell_type": "code",
   "execution_count": 75,
   "metadata": {},
   "outputs": [
    {
     "name": "stdout",
     "output_type": "stream",
     "text": [
      "Коэффициент корреляции составляет - 0.004060906338074544\n"
     ]
    },
    {
     "data": {
      "image/png": "[encoded data removed]",
      "text/plain": [
       "<Figure size 432x288 with 1 Axes>"
      ]
     },
     "metadata": {
      "needs_background": "light"
     },
     "output_type": "display_data"
    }
   ],
   "source": [
    "Diag_Ras(0,3)"
   ]
  },
  {
   "cell_type": "code",
   "execution_count": 76,
   "metadata": {},
   "outputs": [
    {
     "name": "stdout",
     "output_type": "stream",
     "text": [
      "Коэффициент корреляции составляет - -0.16902688549247388\n"
     ]
    },
    {
     "data": {
      "image/png": "[encoded data removed]",
      "text/plain": [
       "<Figure size 432x288 with 1 Axes>"
      ]
     },
     "metadata": {
      "needs_background": "light"
     },
     "output_type": "display_data"
    }
   ],
   "source": [
    "Diag_Ras(1,3)"
   ]
  },
  {
   "cell_type": "code",
   "execution_count": 77,
   "metadata": {},
   "outputs": [
    {
     "name": "stdout",
     "output_type": "stream",
     "text": [
      "Коэффициент корреляции составляет - 0.17237658439872788\n"
     ]
    },
    {
     "data": {
      "image/png": "[encoded data removed]",
      "text/plain": [
       "<Figure size 432x288 with 1 Axes>"
      ]
     },
     "metadata": {
      "needs_background": "light"
     },
     "output_type": "display_data"
    }
   ],
   "source": [
    "Diag_Ras(2,3)"
   ]
  },
  {
   "cell_type": "markdown",
   "metadata": {},
   "source": [
    "# Обучение МОДЕЛИ МНК "
   ]
  },
  {
   "cell_type": "code",
   "execution_count": null,
   "metadata": {},
   "outputs": [],
   "source": [
    "Y_VRP = Table['ВРП'].values.reshape(len(Table['ВРП']), 1)\n",
    "X_ONES= np.ones((Y_VRP.shape[0],1)).astype(float)\n",
    "X_SIF = Table['Степень износа фондов'].values.reshape( Y_VRP.shape[0], 1).astype(float)\n",
    "X_Zan = Table['Занятость'].values.reshape( Y_VRP.shape[0], 1).astype(float)\n",
    "X_UB = Itog_Table['Уровень безработицы'].values.reshape( Y_VRP.shape[0], 1).astype(float)"
   ]
  },
  {
   "cell_type": "code",
   "execution_count": 123,
   "metadata": {},
   "outputs": [],
   "source": [
    "def MODEL_MNK(a,b,c,k,p):\n",
    "    sum1 = 0.\n",
    "    sum2 = 0.\n",
    "    Matrix = np.concatenate([X_ONES, X_SIF**a, X_Zan**b, X_UB**c], axis=1)\n",
    "    Matrix = Matrix.astype(float)\n",
    "    Matrix_obr = np.linalg.pinv( Matrix )\n",
    "    Koef = Matrix_obr.dot( Y_VRP )\n",
    "    Koef = Koef.reshape( Koef.shape[0] )\n",
    "    print(\"*\"*60)\n",
    "    print('Коэффициент перед переменной X_ONES  =' , Koef[0])\n",
    "    print('Коэффициент перед переменной X_SIF   =' , Koef[1])\n",
    "    print('Коэффициент перед переменной X_Zan   =' , Koef[2])\n",
    "    print('Коэффициент перед переменной X_UB    =' , Koef[3])\n",
    "    print(\"*\"*60)\n",
    "    for i in range(Y_VRP.shape[0]):\n",
    "        err11 = (Koef[0]+Koef[1]*((X_SIF)**a)[i]+Koef[2]*((X_Zan)**b)[i]+Koef[3]*((X_UB)**c)[i])\n",
    "        err = (Koef[0]+Koef[1]*((X_SIF)**a)[i]+Koef[2]*((X_Zan)**b)[i]+Koef[3]*((X_UB)**c)[i])-Y_VRP[i]\n",
    "        sum1 += err\n",
    "        sum2 += err * err\n",
    "    print( \"Ошибка                          =\", sum1[0])\n",
    "    print( \"Средний квадрат ошибки          =\", sum2[0]/Y.shape[0])\n",
    "    erorLIN = []\n",
    "    erorSQR = []\n",
    "    erorLIN1 = []\n",
    "    erorSQR1 = []\n",
    "    for j in range(k):\n",
    "        perm = np.random.permutation( Y_VRP.shape[0] )\n",
    "        ii = perm[:int(Y_VRP.shape[0] * p)]\n",
    "        jj = perm[int(Y_VRP.shape[0]*p):]\n",
    "        Matrix_1 = np.concatenate([X_ONES[ii], (X_SIF**a)[ii], (X_Zan**b)[ii], (X_UB**c)[ii]], axis=1)\n",
    "        Matrix_1 = Matrix_1.astype(float)\n",
    "        Matrix_obr_1 = np.linalg.pinv( Matrix_1 )\n",
    "        Koef_1 = Matrix_obr_1.dot( Y_VRP[ii] )\n",
    "        Koef_1 = Koef_1.reshape( Koef_1.shape[0] )\n",
    "        err1 = list(map (lambda x: ((((Koef_1[0]+Koef_1[1]*((X_SIF)**a)[ii][x]+Koef_1[2]*((X_Zan)**b)[ii][x]+\n",
    "                Koef_1[3]*((X_UB)**c)[ii][x])-Y_VRP[ii][x]))), (range(Y_VRP[ii].shape[0]))))\n",
    "        g=sum(err1)/Y[ii].shape[0]\n",
    "        gg=sum(list(map(lambda x: x**2, err1)))/Y[ii].shape[0]\n",
    "        erorLIN.append(g[0])\n",
    "        erorSQR.append(gg[0])\n",
    "        err2 = list(map (lambda x: ((((Koef_1[0]+Koef_1[1]*((X_SIF)**a)[jj][x]+Koef_1[2]*((X_Zan)**b)[jj][x]+\n",
    "                Koef_1[3]*((X_UB)**c)[jj][x])-Y_VRP[jj][x]))), (range(Y_VRP[jj].shape[0]))))\n",
    "        ggg=sum(err2)/Y_VRP[jj].shape[0]\n",
    "        gggg=sum(list(map(lambda x: x**2, err2)))/Y_VRP[jj].shape[0]\n",
    "        erorLIN1.append(ggg[0])\n",
    "        erorSQR1.append(gggg[0]) \n",
    "    print(\"*************************МНК********************************\")\n",
    "    print(\"*\"*60)\n",
    "    print (\"ОБУЧАЮЩИЕ ДАННЫЕ\")\n",
    "    print (\"Ошибка                          =\", sum(erorLIN)/k)\n",
    "    print (\"Средний квадрат ошибки          =\", sum(erorSQR)/k)\n",
    "    print(\"*\"*60)\n",
    "    print (\"ТЕСТОВЫЕ ДАННЫЕ\")\n",
    "    print (\"Ошибка                          =\", sum(erorLIN1)/k)\n",
    "    print (\"Средний квадрат ошибки          =\", sum(erorSQR1)/k)\n",
    "    print(\"*\"*60)"
   ]
  },
  {
   "cell_type": "markdown",
   "metadata": {},
   "source": [
    "МНК - модель 1 "
   ]
  },
  {
   "cell_type": "code",
   "execution_count": 124,
   "metadata": {},
   "outputs": [
    {
     "name": "stdout",
     "output_type": "stream",
     "text": [
      "************************************************************\n",
      "Коэффициент перед переменной X_ONES  = 0.044307768487600374\n",
      "Коэффициент перед переменной X_SIF   = 1.7949780442106844\n",
      "Коэффициент перед переменной X_Zan   = -0.20238605345946337\n",
      "Коэффициент перед переменной X_UB    = -3.8955729496728293\n",
      "************************************************************\n",
      "Ошибка                          = -2.55351295663786e-14\n",
      "Средний квадрат ошибки          = 0.8342794773814804\n",
      "*************************МНК********************************\n",
      "************************************************************\n",
      "ОБУЧАЮЩИЕ ДАННЫЕ\n",
      "Ошибка                          = -1.0791794808212139e-17\n",
      "Средний квадрат ошибки          = 0.9041147376852523\n",
      "************************************************************\n",
      "ТЕСТОВЫЕ ДАННЫЕ\n",
      "Ошибка                          = -0.03307894550839703\n",
      "Средний квадрат ошибки          = 1.0946571468597546\n",
      "************************************************************\n"
     ]
    }
   ],
   "source": [
    "MODEL_MNK(1,1,1,1000,0.75)"
   ]
  },
  {
   "cell_type": "markdown",
   "metadata": {},
   "source": [
    "МНК - модель 2"
   ]
  },
  {
   "cell_type": "code",
   "execution_count": 125,
   "metadata": {},
   "outputs": [
    {
     "name": "stdout",
     "output_type": "stream",
     "text": [
      "************************************************************\n",
      "Коэффициент перед переменной X_ONES  = 0.04802403782010138\n",
      "Коэффициент перед переменной X_SIF   = 2.6028549328123476\n",
      "Коэффициент перед переменной X_Zan   = 1.6983515136307394\n",
      "Коэффициент перед переменной X_UB    = -6.121456270552293\n",
      "************************************************************\n",
      "Ошибка                          = 4.75175454539567e-14\n",
      "Средний квадрат ошибки          = 0.8344124618761235\n",
      "*************************МНК********************************\n",
      "************************************************************\n",
      "ОБУЧАЮЩИЕ ДАННЫЕ\n",
      "Ошибка                          = 1.8845181825300782e-17\n",
      "Средний квадрат ошибки          = 0.9226909296882475\n",
      "************************************************************\n",
      "ТЕСТОВЫЕ ДАННЫЕ\n",
      "Ошибка                          = -0.0211117910157303\n",
      "Средний квадрат ошибки          = 1.0378046018525386\n",
      "************************************************************\n"
     ]
    }
   ],
   "source": [
    "MODEL_MNK(2,2,2,1000,0.75)"
   ]
  },
  {
   "cell_type": "markdown",
   "metadata": {},
   "source": [
    "МНК - модель 3"
   ]
  },
  {
   "cell_type": "code",
   "execution_count": 126,
   "metadata": {},
   "outputs": [
    {
     "name": "stdout",
     "output_type": "stream",
     "text": [
      "************************************************************\n",
      "Коэффициент перед переменной X_ONES  = 0.25203818559881375\n",
      "Коэффициент перед переменной X_SIF   = 3.4097724108253256\n",
      "Коэффициент перед переменной X_Zan   = 2.706591209666368\n",
      "Коэффициент перед переменной X_UB    = -20.63782815769025\n",
      "************************************************************\n",
      "Ошибка                          = -5.229150445984487e-14\n",
      "Средний квадрат ошибки          = 0.8346553047388194\n",
      "*************************МНК********************************\n",
      "************************************************************\n",
      "ОБУЧАЮЩИЕ ДАННЫЕ\n",
      "Ошибка                          = 4.05105393674887e-15\n",
      "Средний квадрат ошибки          = 0.9350367515702879\n",
      "************************************************************\n",
      "ТЕСТОВЫЕ ДАННЫЕ\n",
      "Ошибка                          = -0.019880695306919587\n",
      "Средний квадрат ошибки          = 1.056551620229778\n",
      "************************************************************\n"
     ]
    }
   ],
   "source": [
    "MODEL_MNK(3,3,3,1000,0.75)"
   ]
  },
  {
   "cell_type": "markdown",
   "metadata": {},
   "source": [
    "МНК - модель 4"
   ]
  },
  {
   "cell_type": "code",
   "execution_count": 127,
   "metadata": {},
   "outputs": [
    {
     "name": "stdout",
     "output_type": "stream",
     "text": [
      "************************************************************\n",
      "Коэффициент перед переменной X_ONES  = -0.7061396343756731\n",
      "Коэффициент перед переменной X_SIF   = 2.7930950804746866\n",
      "Коэффициент перед переменной X_Zan   = 1.9045754705570204\n",
      "Коэффициент перед переменной X_UB    = -10.869168620428871\n",
      "************************************************************\n",
      "Ошибка                          = 4.440892098500626e-14\n",
      "Средний квадрат ошибки          = 0.8349631847397976\n",
      "*************************МНК********************************\n",
      "************************************************************\n",
      "ОБУЧАЮЩИЕ ДАННЫЕ\n",
      "Ошибка                          = 3.118509723958159e-17\n",
      "Средний квадрат ошибки          = 0.9029214697201721\n",
      "************************************************************\n",
      "ТЕСТОВЫЕ ДАННЫЕ\n",
      "Ошибка                          = -0.03960189276250035\n",
      "Средний квадрат ошибки          = 1.1225137360772781\n",
      "************************************************************\n"
     ]
    }
   ],
   "source": [
    "MODEL_MNK(1,2,3,1000,0.75)"
   ]
  },
  {
   "cell_type": "markdown",
   "metadata": {},
   "source": [
    "МНК - модель 5"
   ]
  },
  {
   "cell_type": "code",
   "execution_count": 128,
   "metadata": {},
   "outputs": [
    {
     "name": "stdout",
     "output_type": "stream",
     "text": [
      "************************************************************\n",
      "Коэффициент перед переменной X_ONES  = 0.4884315389634739\n",
      "Коэффициент перед переменной X_SIF   = 2.8976402557421514\n",
      "Коэффициент перед переменной X_Zan   = 1.2041872527084208\n",
      "Коэффициент перед переменной X_UB    = -3.205157789208847\n",
      "************************************************************\n",
      "Ошибка                          = -1.0547118733938987e-14\n",
      "Средний квадрат ошибки          = 0.8292359491568586\n",
      "*************************МНК********************************\n",
      "************************************************************\n",
      "ОБУЧАЮЩИЕ ДАННЫЕ\n",
      "Ошибка                          = -1.2037768218129051e-15\n",
      "Средний квадрат ошибки          = 0.910225130978516\n",
      "************************************************************\n",
      "ТЕСТОВЫЕ ДАННЫЕ\n",
      "Ошибка                          = -0.02502358548795473\n",
      "Средний квадрат ошибки          = 1.0628435368798852\n",
      "************************************************************\n"
     ]
    }
   ],
   "source": [
    "MODEL_MNK(3,2,1,1000,0.75)"
   ]
  },
  {
   "cell_type": "markdown",
   "metadata": {},
   "source": [
    "ВЫВОД\n",
    "\n",
    "НАИЛУЧШАЯ МОДЕЛь МНК - модель 2"
   ]
  },
  {
   "cell_type": "markdown",
   "metadata": {},
   "source": [
    "# Обучение МОДЕЛИ С ОШИБКОЙ"
   ]
  },
  {
   "cell_type": "code",
   "execution_count": 201,
   "metadata": {},
   "outputs": [],
   "source": [
    "class MODEL_ERROR:\n",
    "    def __init__(self, a=1, b=1, c=1, d=1, e=1, k=100, p=0.75):\n",
    "        self.sum1 = 0.\n",
    "        self.sum2 = 0.\n",
    "        self.erorSQR = 0.\n",
    "    def ERROR(self,a,b,c,d,e,k,p):\n",
    "        self.a=a\n",
    "        self.b=b\n",
    "        self.c=c\n",
    "        self.d=d\n",
    "        self.e=e\n",
    "        for j in range(k):\n",
    "            perm = np.random.permutation( Y_VRP.shape[0] )\n",
    "            self.ii = perm[:int(Y_VRP.shape[0] * p)]\n",
    "            self.jj = perm[int(Y_VRP.shape[0]*p):]\n",
    "            z=opt.minimize( self.Min_error, (0,0,0,0), method = 'CG' )\n",
    "            self.sum2 = 0.\n",
    "            for i in range(self.jj.shape[0]):\n",
    "                err = ((z.x[0]+z.x[1]*((X_SIF.astype(float))**self.a)[self.jj][i]+z.x[2]*((X_Zan.astype(float))**self.b)[self.jj][i]+z.x[3]*((X_UB.astype(float))**self.c)[self.ii][i])-(Y_VRP.astype(float))[self.jj][i])\n",
    "                self.sum2+= (int(err[0]<0)*err[0])**self.d+(int(err[0]>=0)*err[0])**self.e\n",
    "            g=self.sum2/Y_VRP[self.jj].shape[0]\n",
    "            self.erorSQR+=g\n",
    "        print(\"******************МОДЕЛИ С ОШИБКОЙ**************************\")\n",
    "        print(\"*\"*60)\n",
    "        print (\"ТЕСТОВЫЕ ДАННЫЕ\")\n",
    "        print (\"Ошибка                          =\", self.erorSQR/k)\n",
    "        print(\"*\"*60)\n",
    "    def Min_error(self,Koeff ):\n",
    "        for i in range(self.ii.shape[0]):\n",
    "            self.err = ((Koeff[0]+Koeff[1]*((X_SIF.astype(float))**self.a)[self.ii][i]+Koeff[2]*((X_Zan.astype(float))**self.b)[self.ii][i]+Koeff[3]*((X_UB.astype(float))**self.c)[self.ii][i])-(Y_VRP.astype(float))[self.ii][i])\n",
    "            self.sum1+= (int(self.err<0)*self.err)**self.d +(int(self.err>=0)*self.err)**self.e\n",
    "        return (self.sum1/self.ii.shape[0])"
   ]
  },
  {
   "cell_type": "markdown",
   "metadata": {},
   "source": [
    "МОДЕЛИ С ОШИБКОЙ - модель 1"
   ]
  },
  {
   "cell_type": "code",
   "execution_count": 300,
   "metadata": {},
   "outputs": [
    {
     "name": "stdout",
     "output_type": "stream",
     "text": [
      "******************ФУНКЦИЯ МИНИМУМА**************************\n",
      "************************************************************\n",
      "ТЕСТОВЫЕ ДАННЫЕ\n",
      "Ошибка                          = -0.6059987931818182\n",
      "************************************************************\n"
     ]
    }
   ],
   "source": [
    "Model_1=MODEL_ERROR()\n",
    "Model_1.ERROR(1,1,1,1,1, 10, 0.75)"
   ]
  },
  {
   "cell_type": "markdown",
   "metadata": {},
   "source": [
    "МОДЕЛИ С ОШИБКОЙ - модель 2"
   ]
  },
  {
   "cell_type": "code",
   "execution_count": 203,
   "metadata": {},
   "outputs": [
    {
     "name": "stdout",
     "output_type": "stream",
     "text": [
      "******************ФУНКЦИЯ МИНИМУМА**************************\n",
      "************************************************************\n",
      "ТЕСТОВЫЕ ДАННЫЕ\n",
      "Ошибка                          = 0.9034777936707238\n",
      "************************************************************\n"
     ]
    }
   ],
   "source": [
    "Model_1.ERROR(1,1,1,2,2, 10, 0.75)"
   ]
  },
  {
   "cell_type": "markdown",
   "metadata": {},
   "source": [
    "МОДЕЛИ С ОШИБКОЙ - модель 3"
   ]
  },
  {
   "cell_type": "code",
   "execution_count": 204,
   "metadata": {},
   "outputs": [
    {
     "name": "stdout",
     "output_type": "stream",
     "text": [
      "******************ФУНКЦИЯ МИНИМУМА**************************\n",
      "************************************************************\n",
      "ТЕСТОВЫЕ ДАННЫЕ\n",
      "Ошибка                          = 2.468985718344994\n",
      "************************************************************\n"
     ]
    }
   ],
   "source": [
    "Model_1.ERROR(3,2,1,2,2, 10, 0.75)"
   ]
  },
  {
   "cell_type": "markdown",
   "metadata": {},
   "source": [
    "МОДЕЛИ С ОШИБКОЙ - модель 4"
   ]
  },
  {
   "cell_type": "code",
   "execution_count": 205,
   "metadata": {},
   "outputs": [
    {
     "name": "stdout",
     "output_type": "stream",
     "text": [
      "******************ФУНКЦИЯ МИНИМУМА**************************\n",
      "************************************************************\n",
      "ТЕСТОВЫЕ ДАННЫЕ\n",
      "Ошибка                          = -6.666598374043637\n",
      "************************************************************\n"
     ]
    }
   ],
   "source": [
    "Model_1.ERROR(1,2,3,3,1, 10, 0.75)"
   ]
  },
  {
   "cell_type": "markdown",
   "metadata": {},
   "source": [
    "МОДЕЛИ С ОШИБКОЙ - модель 5"
   ]
  },
  {
   "cell_type": "code",
   "execution_count": 206,
   "metadata": {},
   "outputs": [
    {
     "name": "stdout",
     "output_type": "stream",
     "text": [
      "******************ФУНКЦИЯ МИНИМУМА**************************\n",
      "************************************************************\n",
      "ТЕСТОВЫЕ ДАННЫЕ\n",
      "Ошибка                          = -7.207333512225456\n",
      "************************************************************\n"
     ]
    }
   ],
   "source": [
    "Model_1.ERROR(2,2,3,1,1, 10, 0.75)"
   ]
  },
  {
   "cell_type": "markdown",
   "metadata": {},
   "source": [
    "ВЫВОД\n",
    "\n",
    "НАИЛУЧШАЯ МОДЕЛь С ОШИБКОЙ - модель 1"
   ]
  },
  {
   "cell_type": "markdown",
   "metadata": {},
   "source": [
    "# Обучение МОДЕЛИ С РЕГУЛЯРИЗАЦИЕЙ "
   ]
  },
  {
   "cell_type": "code",
   "execution_count": 292,
   "metadata": {},
   "outputs": [],
   "source": [
    "class MODEL_REGULARIS:\n",
    "    def __init__(self, a=1, b=1, c=1, L1=0, L2=0, k=100, p=0.75):\n",
    "        self.sum1 = 0.\n",
    "        self.sum2 = 0.\n",
    "        self.erorSQR = []\n",
    "    def ERROR_REGULARIS(self,a,b,c,L1,L2,k,p):\n",
    "        self.a=a\n",
    "        self.b=b\n",
    "        self.c=c\n",
    "        self.L1=L1\n",
    "        self.L2=L2\n",
    "        for j in range(k):\n",
    "            perm = np.random.permutation( Y_VRP.shape[0] )\n",
    "            self.ii = perm[:int(Y_VRP.shape[0] * p)]\n",
    "            self.jj = perm[int(Y_VRP.shape[0]*p):]\n",
    "            z=opt.minimize( self.MIN_REGULARIS, (0,0,0,0), method = 'CG' )\n",
    "            err = list(map(lambda x:(z.x[0]+z.x[1]*((X_SIF.astype(float))**self.a)[self.jj][x]\n",
    "            +z.x[2]*((X_Zan.astype(float))**self.b)[self.jj][x]\n",
    "            +z.x[3]*((X_UB.astype(float))**self.c)[self.jj][x]-(((Y_VRP.astype(float))[self.jj][x])**2))\n",
    "            +self.L1*((np.abs(z.x[1])+np.abs(z.x[2])+np.abs(z.x[3])))\n",
    "            +self.L2*(((z.x[1])**2+(z.x[2])**2+(z.x[3])**2)), range(self.jj.shape[0])))\n",
    "            g=sum(err)/Y_VRP[self.jj].shape[0]\n",
    "            self.erorSQR.append(g[0])\n",
    "            \n",
    "        print(\"******************МОДЕЛИ С РЕГУЛЯРИЗАЦИЕЙ**********************\")\n",
    "        print (\"ТЕСТОВЫЕ ДАННЫЕ\")\n",
    "        print (\"Ошибка                          =\", sum(self.erorSQR)/k)\n",
    "        print(\"*\"*60)\n",
    "        \n",
    "    def MIN_REGULARIS(self,Koeff ):\n",
    "        self.err = list(map(lambda x:(Koeff[0]+Koeff[1]*((X_SIF.astype(float))**self.a)[self.ii][x]\n",
    "        +Koeff[2]*((X_Zan.astype(float))**self.b)[self.ii][x]\n",
    "        +Koeff[3]*((X_UB.astype(float))**self.c)[self.ii][x]-(((Y_VRP.astype(float))[self.ii][x])**2))\n",
    "        +self.L1*((np.abs(Koeff[1])+np.abs(Koeff[2])+np.abs(Koeff[3])))\n",
    "        +self.L2*(((Koeff[1])**2+(Koeff[2])**2+(Koeff[3])**2)), range(self.ii.shape[0])))\n",
    "        return np.mean(self.err)"
   ]
  },
  {
   "cell_type": "markdown",
   "metadata": {},
   "source": [
    "МОДЕЛИ С РЕГУЛЯРИЗАЦИЕЙ - модель 1"
   ]
  },
  {
   "cell_type": "code",
   "execution_count": 293,
   "metadata": {},
   "outputs": [
    {
     "name": "stdout",
     "output_type": "stream",
     "text": [
      "******************МОДЕЛИ С РЕГУЛЯРИЗАЦИЕЙ**********************\n",
      "ТЕСТОВЫЕ ДАННЫЕ\n",
      "Ошибка                          = -289587181.14215314\n",
      "************************************************************\n"
     ]
    }
   ],
   "source": [
    "Model_1=MODEL_REGULARIS()\n",
    "Model_1.ERROR_REGULARIS(1,1,1,0,1, 100, 0.75)"
   ]
  },
  {
   "cell_type": "markdown",
   "metadata": {},
   "source": [
    "МОДЕЛИ С РЕГУЛЯРИЗАЦИЕЙ - модель 2"
   ]
  },
  {
   "cell_type": "code",
   "execution_count": 296,
   "metadata": {},
   "outputs": [
    {
     "name": "stdout",
     "output_type": "stream",
     "text": [
      "******************МОДЕЛИ С РЕГУЛЯРИЗАЦИЕЙ**********************\n",
      "ТЕСТОВЫЕ ДАННЫЕ\n",
      "Ошибка                          = -2895871826.6026096\n",
      "************************************************************\n"
     ]
    }
   ],
   "source": [
    "Model_1.ERROR_REGULARIS(1,1,1,1,0, 10, 0.75)"
   ]
  },
  {
   "cell_type": "markdown",
   "metadata": {},
   "source": [
    "МОДЕЛИ С РЕГУЛЯРИЗАЦИЕЙ - модель 3"
   ]
  },
  {
   "cell_type": "code",
   "execution_count": 297,
   "metadata": {},
   "outputs": [
    {
     "name": "stdout",
     "output_type": "stream",
     "text": [
      "******************МОДЕЛИ С РЕГУЛЯРИЗАЦИЕЙ**********************\n",
      "ТЕСТОВЫЕ ДАННЫЕ\n",
      "Ошибка                          = -2895871828.0184846\n",
      "************************************************************\n"
     ]
    }
   ],
   "source": [
    "Model_1.ERROR_REGULARIS(1,1,1,10,0, 10, 0.75)"
   ]
  },
  {
   "cell_type": "markdown",
   "metadata": {},
   "source": [
    "МОДЕЛИ С РЕГУЛЯРИЗАЦИЕЙ - модель 4"
   ]
  },
  {
   "cell_type": "code",
   "execution_count": 298,
   "metadata": {},
   "outputs": [
    {
     "name": "stdout",
     "output_type": "stream",
     "text": [
      "******************МОДЕЛИ С РЕГУЛЯРИЗАЦИЕЙ**********************\n",
      "ТЕСТОВЫЕ ДАННЫЕ\n",
      "Ошибка                          = -3279217915.244919\n",
      "************************************************************\n"
     ]
    }
   ],
   "source": [
    "Model_1.ERROR_REGULARIS(1,1,1,0,10, 10, 0.75)"
   ]
  },
  {
   "cell_type": "markdown",
   "metadata": {},
   "source": [
    "МОДЕЛИ С РЕГУЛЯРИЗАЦИЕЙ - модель 5"
   ]
  },
  {
   "cell_type": "code",
   "execution_count": 299,
   "metadata": {},
   "outputs": [
    {
     "name": "stdout",
     "output_type": "stream",
     "text": [
      "******************МОДЕЛИ С РЕГУЛЯРИЗАЦИЕЙ**********************\n",
      "ТЕСТОВЫЕ ДАННЫЕ\n",
      "Ошибка                          = -3279217916.6282434\n",
      "************************************************************\n"
     ]
    }
   ],
   "source": [
    "Model_1.ERROR_REGULARIS(1,1,1,2,2, 10, 0.75)"
   ]
  },
  {
   "cell_type": "markdown",
   "metadata": {},
   "source": [
    "ВЫВОД\n",
    "\n",
    "НАИЛУЧШАЯ МОДЕЛь С РЕГУЛЯРИЗАЦИЕЙ - модель 1"
   ]
  },
  {
   "cell_type": "code",
   "execution_count": null,
   "metadata": {},
   "outputs": [],
   "source": []
  }
 ],
 "metadata": {
  "kernelspec": {
   "display_name": "Python 3",
   "language": "python",
   "name": "python3"
  },
  "language_info": {
   "codemirror_mode": {
    "name": "ipython",
    "version": 3
   },
   "file_extension": ".py",
   "mimetype": "text/x-python",
   "name": "python",
   "nbconvert_exporter": "python",
   "pygments_lexer": "ipython3",
   "version": "3.7.6"
  }
 },
 "nbformat": 4,
 "nbformat_minor": 4
}
